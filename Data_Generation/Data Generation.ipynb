{
 "cells": [
  {
   "cell_type": "markdown",
   "metadata": {},
   "source": [
    "# Initialize file path and ids  "
   ]
  },
  {
   "cell_type": "code",
   "execution_count": null,
   "metadata": {},
   "outputs": [],
   "source": [
    "image_size = 512\n",
    "path = \"/content/gdrive/My Drive/final_dataset\"\n",
    "epochs=100\n",
    "batch_size =4\n",
    "train_ids= np.arange(0,654)\n",
    "val_ids  = np.arange(0,60)\n",
    "test_ids = np.arange(0,15)\n",
    "\n",
    "\n",
    "train_path = path +'/train1'\n",
    "val_path = path +'/val1'\n",
    "test_path = path +'/test1'\n",
    "print(train_path,test_path)"
   ]
  },
  {
   "cell_type": "markdown",
   "metadata": {},
   "source": [
    "# Data Generation"
   ]
  },
  {
   "cell_type": "code",
   "execution_count": null,
   "metadata": {},
   "outputs": [],
   "source": [
    "class DataGen(tensorflow.keras.utils.Sequence):\n",
    "    def __init__(self, ids, path, batch_size=4, image_size=256):\n",
    "        self.ids = ids\n",
    "        self.path = path\n",
    "        self.batch_size = batch_size\n",
    "        self.image_size = image_size\n",
    "        self.on_epoch_end()\n",
    "        \n",
    "    def __load__(self, id_name):\n",
    "        image_path = self.path+'/Data/'+str(id_name)+'.png'\n",
    "        \n",
    "        mask_path = self.path+'/Labels/'+str(id_name)+'.png'    \n",
    "        image = cv2.imread(image_path, 1)\n",
    "        \n",
    "        image=rein(image) \n",
    "        \n",
    "        image = cv2.resize(image, (self.image_size, self.image_size))\n",
    "       \n",
    "        mask = np.zeros((self.image_size, self.image_size, 1))\n",
    "        _mask_image = cv2.imread(mask_path,0)\n",
    "        _mask_image = cv2.resize(_mask_image, (self.image_size, self.image_size))\n",
    "        _mask_image = np.expand_dims(_mask_image, axis=-1)\n",
    "        mask = np.maximum(mask, _mask_image)    \n",
    "        ## Normalizaing \n",
    "        \n",
    "        image = image/255.0\n",
    "        mask = mask/255.0\n",
    "        return image,mask\n",
    "    \n",
    "    def __getitem__(self, index):\n",
    "      \n",
    "      if(index+1)*self.batch_size > len(self.ids):\n",
    "        self.batch_size = len(self.ids) - index*self.batch_size\n",
    "        \n",
    "      files_batch = self.ids[index*self.batch_size : (index+1)*self.batch_size]\n",
    "      image = []\n",
    "      mask  = []\n",
    "       \n",
    "      for id_name in files_batch:\n",
    "        _img,_mask = self.__load__(id_name)\n",
    "        image.append(_img)\n",
    "        mask.append(_mask)\n",
    "        \n",
    "      \n",
    "      image = np.array(image)\n",
    "      mask  = np.array(mask)\n",
    "      return image,mask\n",
    "\n",
    "    def on_epoch_end(self):\n",
    "      pass\n",
    "    \n",
    "    def __len__(self):\n",
    "      return int(np.ceil(len(self.ids)/float(self.batch_size)))  "
   ]
  }
 ],
 "metadata": {
  "kernelspec": {
   "display_name": "Python 3",
   "language": "python",
   "name": "python3"
  },
  "language_info": {
   "codemirror_mode": {
    "name": "ipython",
    "version": 3
   },
   "file_extension": ".py",
   "mimetype": "text/x-python",
   "name": "python",
   "nbconvert_exporter": "python",
   "pygments_lexer": "ipython3",
   "version": "3.7.3"
  }
 },
 "nbformat": 4,
 "nbformat_minor": 2
}
