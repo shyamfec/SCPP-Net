{
  "nbformat": 4,
  "nbformat_minor": 0,
  "metadata": {
    "colab": {
      "name": "ASPPU(2020).ipynb",
      "provenance": []
    },
    "kernelspec": {
      "name": "python3",
      "display_name": "Python 3"
    },
    "language_info": {
      "name": "python"
    }
  },
  "cells": [
    {
      "cell_type": "code",
      "metadata": {
        "id": "6fZ9I8J5K0dk"
      },
      "source": [
        "def down_block(x, filters, kernel_size=(3, 3), padding=\"same\", strides=1):\n",
        "    c = keras.layers.Conv2D(filters, kernel_size, padding=padding, strides=strides, activation=\"relu\")(x)                   \n",
        "    c = keras.layers.Conv2D(filters, kernel_size, padding=padding, strides=strides, activation=\"relu\")(c)\n",
        "\n",
        "    p = keras.layers.MaxPool2D((2, 2), (2, 2))(c)\n",
        "    return c, p\n",
        "\n",
        "def up_block(x, skip, filters, kernel_size=(3, 3), padding=\"same\", strides=1):\n",
        "    us = keras.layers.UpSampling2D((2, 2))(x)\n",
        "    concat = keras.layers.Concatenate()([us, skip])\n",
        "    c = keras.layers.Conv2D(filters, kernel_size, padding=padding, strides=strides, activation=\"relu\")(concat)\n",
        "    c = keras.layers.Conv2D(filters, kernel_size, padding=padding, strides=strides, activation=\"relu\")(c)\n",
        "\n",
        "\n",
        "def bottleneck(x, filters, kernel_size=(3, 3), padding=\"same\", strides=1):\n",
        "    c = keras.layers.Conv2D(filters, kernel_size, padding=padding, strides=strides, activation=\"relu\")(x)  \n",
        "    c = BatchNormalization(epsilon=1e-3,beta_initializer=Constant(0.0),gamma_initializer=Constant(1.0),momentum=0.5)(c)\n",
        "    c1= keras.layers.Conv2D(filters,(3,3),strides=1,padding=\"same\",dilation_rate=2)(x)\n",
        "    c5= keras.layers.Conv2D(filters,(3,3),strides=1,padding=\"same\",dilation_rate=4)(x)\n",
        "    c2= keras.layers.Conv2D(filters,(3,3),strides=1,padding=\"same\",dilation_rate=16)(x)\n",
        "    c3= keras.layers.Conv2D(filters,(3,3),strides=1,padding=\"same\",dilation_rate=8)(x)\n",
        "    c4= keras.layers.Conv2D(filters,(3,3),strides=1,padding=\"same\",dilation_rate=32)(x)\n",
        "    c= Concatenate()([c,c1,c2,c3,c4,c5])  \n",
        "    return c"
      ],
      "execution_count": null,
      "outputs": []
    },
    {
      "cell_type": "code",
      "metadata": {
        "id": "VIEZQelOK1h7"
      },
      "source": [
        "def ASPPUNet():\n",
        "    f = [32,64,128,256]\n",
        "    #inputs = keras.layers.Input((image_size, image_size, 3))\n",
        "    inputs= tf.keras.layers.Input((512,512,3)) \n",
        "    \n",
        "    p0 = inputs\n",
        "    c1, p1 = down_block(p0, f[0]) #128 -> 64\n",
        "    c2, p2 = down_block(p1, f[1]) #64 -> 32\n",
        "    c3, p3 = down_block(p2, f[2]) #32 -> 16\n",
        "    #c4, p4 = down_block(p3, f[3]) #16->8\n",
        "    \n",
        "    #bn = bottleneck(p4, f[4])\n",
        "    bn = bottleneck(p3, f[3])\n",
        "    \n",
        "    #u1 = up_block(bn, c4, f[3]) #8 -> 16\n",
        "    u2 = up_block(bn, c3, f[2]) #16 -> 32\n",
        "    u3 = up_block(u2, c2, f[1]) #32 -> 64\n",
        "    u4 = up_block(u3, c1, f[0]) #64 -> 128\n",
        "    \n",
        "    outputs = Conv2D(1, (1, 1), padding=\"same\", activation=\"sigmoid\")(u4)\n",
        "    model = keras.models.Model(inputs, outputs)\n",
        "    return model"
      ],
      "execution_count": null,
      "outputs": []
    },
    {
      "cell_type": "code",
      "metadata": {
        "id": "iYd0pcUlK48V"
      },
      "source": [
        "model = ASPPUNet()\n",
        "adam = optimizers.Adam(lr=0.0001 , decay=5*1e-7)\n",
        "model.compile(optimizer=\"adam\", loss=\"binary_crossentropy\", metrics=[\"acc\"])\n",
        "model.summary()"
      ],
      "execution_count": null,
      "outputs": []
    }
  ]
}