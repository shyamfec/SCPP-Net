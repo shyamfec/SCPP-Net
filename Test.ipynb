{
  "nbformat": 4,
  "nbformat_minor": 0,
  "metadata": {
    "colab": {
      "name": "Test.ipynb",
      "provenance": []
    },
    "kernelspec": {
      "name": "python3",
      "display_name": "Python 3"
    },
    "language_info": {
      "name": "python"
    }
  },
  "cells": [
    {
      "cell_type": "code",
      "metadata": {
        "id": "R82FTeEaImPD"
      },
      "source": [
        "import matplotlib.pyplot as plt\n",
        "import cv2 as cv\n",
        "out_pred=[]\n",
        "X_test, Y_test = test()\n",
        "\n",
        "out = model_SCPPnet.predict(X_test)\n",
        "\n",
        "out=out>0.5"
      ],
      "execution_count": null,
      "outputs": []
    },
    {
      "cell_type": "code",
      "metadata": {
        "id": "7EpfL2yoIm9z"
      },
      "source": [
        "fig=plt.figure()\n",
        "\n",
        "fig.subplots_adjust(hspace=0.4, wspace=0.4)\n",
        "\n",
        "ax=fig.add_subplot(1,2,1)\n",
        "ax.imshow(np.reshape(Y_test[0]*255,(512,512)),cmap=\"gray\")\n",
        "\n",
        "ax=fig.add_subplot(1,2,2)\n",
        "ax.imshow(np.reshape(out[0]*255,(512,512)),cmap=\"gray\")\n",
        "\n",
        "# img =np.reshape(out[0]*255, (512,512))\n",
        "# path4 = '/content/drive/MyDrive/Athresh/Athresh-2_SCPP/images/'\n",
        "# cv2.imwrite(path4 +'T0'+'.png',img)\n",
        "\n",
        "print(out.shape)"
      ],
      "execution_count": null,
      "outputs": []
    }
  ]
}