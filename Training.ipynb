{
  "nbformat": 4,
  "nbformat_minor": 0,
  "metadata": {
    "colab": {
      "name": "Training.ipynb",
      "provenance": []
    },
    "kernelspec": {
      "name": "python3",
      "display_name": "Python 3"
    },
    "language_info": {
      "name": "python"
    }
  },
  "cells": [
    {
      "cell_type": "code",
      "metadata": {
        "id": "qXsHxud6INq1"
      },
      "source": [
        "reduce_lr = tf.keras.callbacks.ReduceLROnPlateau(monitor = 'val_loss' ,\n",
        "                                                  factor = 0.5 , patience = 5 , verbose=1 , cooldown = 1,\n",
        "                                                 min_delta = 0.000001)\n",
        "\n",
        "model_SCPPnet.fit(\n",
        "   x=X_train,\n",
        "   y=Y_train,\n",
        "   batch_size=1,\n",
        "   epochs=40,\n",
        "   validation_data = (X_val,Y_val)\n",
        ")\n",
        "\n",
        "\n",
        "model_SCPPnet.save_weights('/content/drive/MyDrive/Athresh/Athresh-2_SCPP/SCCP_TNBC.h5')"
      ],
      "execution_count": null,
      "outputs": []
    }
  ]
}