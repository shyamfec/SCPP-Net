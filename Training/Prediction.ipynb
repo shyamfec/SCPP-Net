{
 "cells": [
  {
   "cell_type": "code",
   "execution_count": null,
   "metadata": {},
   "outputs": [],
   "source": [
    "result = model_Cumedvision_mod.predict(x)\n",
    "\n",
    "result = result >0.5\n",
    "\n",
    "result = 1*result\n",
    "\n",
    "print(len(x))\n",
    "y=y.astype(int)"
   ]
  },
  {
   "cell_type": "code",
   "execution_count": null,
   "metadata": {},
   "outputs": [],
   "source": [
    "for i in range(len(x)):\n",
    "  fig = plt.figure()\n",
    "  fig.subplots_adjust(hspace=0.4, wspace=0.4)\n",
    "  #r = random.randint(0, len(x)-1)\n",
    "  ax = fig.add_subplot(1, 2, 1)\n",
    "  ax.set_title('Originals')\n",
    "  ax.imshow(np.reshape(y[i]*255, (image_size, image_size)),cmap = \"gray\")\n",
    "  #fig.savefig('plot.png')\n",
    "\n",
    "  ax = fig.add_subplot(1, 2, 2)\n",
    "  ax.set_title(\"predicted\")\n",
    "  ax.imshow(np.reshape(result[i]*255, (image_size, image_size)), cmap=\"gray\")\n",
    "  img =np.reshape(result[i]*255, (image_size, image_size)).astype('float32')\n",
    "  #img = cv2.resize(img,(400,400))\n",
    "  #path4 = '/content/gdrive/My Drive/final_dataset/results/cumed_norm/Predicted/'\n",
    "  #cv2.imwrite(path4+'cu_norgtk'+str(i)+'.png',img)\n",
    "  #img=0\n",
    "  "
   ]
  }
 ],
 "metadata": {
  "kernelspec": {
   "display_name": "Python 3",
   "language": "python",
   "name": "python3"
  },
  "language_info": {
   "codemirror_mode": {
    "name": "ipython",
    "version": 3
   },
   "file_extension": ".py",
   "mimetype": "text/x-python",
   "name": "python",
   "nbconvert_exporter": "python",
   "pygments_lexer": "ipython3",
   "version": "3.7.3"
  }
 },
 "nbformat": 4,
 "nbformat_minor": 2
}
