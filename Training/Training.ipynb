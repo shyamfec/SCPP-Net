{
 "cells": [
  {
   "cell_type": "code",
   "execution_count": null,
   "metadata": {},
   "outputs": [],
   "source": [
    "train_gen = DataGen(train_ids, train_path, image_size=image_size, batch_size=batch_size)\n",
    "valid_gen = DataGen(val_ids, val_path, image_size=image_size, batch_size=batch_size)\n",
    "print(valid_gen)\n",
    "train_steps = int(np.ceil(len(train_ids)/float(batch_size)))\n",
    "valid_steps = int(np.ceil(len(val_ids)/float(batch_size)))\n",
    "#print(len(train_ids))\n",
    "callbacks = [tensorflow.keras.callbacks.EarlyStopping(patience=10,monitor='val_loss'),tensorflow.keras.callbacks.TensorBoard(log_dir='logs')]\n",
    "history = model_SCPPnet.fit_generator(train_gen, validation_data=valid_gen, steps_per_epoch=train_steps, validation_steps=valid_steps, \n",
    "                    epochs=100,callbacks=callbacks)\n",
    "#history = model_Unet.fit_generator(train_gen, validation_data=valid_gen, steps_per_epoch=train_steps, validation_steps=valid_steps, \n",
    "#                    epochs=100,callbacks=callbacks)\n",
    "\n",
    "#history = model_segnet.fit_generator(train_gen, validation_data=valid_gen, steps_per_epoch=train_steps, validation_steps=valid_steps, \n",
    "#                    epochs=100,callbacks=callbacks)\n",
    "\n",
    "#history = model_CuMedVision.fit_generator(train_gen, validation_data=valid_gen, steps_per_epoch=train_steps, validation_steps=valid_steps, \n",
    "#                    epochs=100,callbacks=callbacks)\n",
    "\n",
    "#history = model_attUnet.fit_generator(train_gen, validation_data=valid_gen, steps_per_epoch=train_steps, validation_steps=valid_steps, \n",
    "#                    epochs=100,callbacks=callbacks)\n",
    "\n",
    "#history = model_dist.fit_generator(train_gen, validation_data=valid_gen, steps_per_epoch=train_steps, validation_steps=valid_steps, \n",
    "#                    epochs=100,callbacks=callbacks)\n"
   ]
  },
  {
   "cell_type": "code",
   "execution_count": null,
   "metadata": {},
   "outputs": [],
   "source": [
    "model_SCPPnet.save_weights('/content/gdrive/My Drive/SCPPnet.h5')\n",
    "#model_SCPPnet.load_weights('/content/gdrive/My Drive/SCPPnet.h5')\n",
    "test_gen = DataGen(test_ids,test_path,image_size=image_size,batch_size=15)\n",
    "## Dataset for prediction\n",
    "x, y = test_gen.__getitem__(0)"
   ]
  }
 ],
 "metadata": {
  "kernelspec": {
   "display_name": "Python 3",
   "language": "python",
   "name": "python3"
  },
  "language_info": {
   "codemirror_mode": {
    "name": "ipython",
    "version": 3
   },
   "file_extension": ".py",
   "mimetype": "text/x-python",
   "name": "python",
   "nbconvert_exporter": "python",
   "pygments_lexer": "ipython3",
   "version": "3.7.3"
  }
 },
 "nbformat": 4,
 "nbformat_minor": 2
}
