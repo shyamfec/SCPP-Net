{
 "cells": [
  {
   "cell_type": "code",
   "execution_count": null,
   "metadata": {},
   "outputs": [],
   "source": [
    "import tensorflow as tf\n",
    "import keras.backend as K\n",
    "\n",
    "run_meta = tf.compat.v1.RunMetadata()\n",
    "with tf.compat.v1.Session(graph=tf.Graph()) as sess:\n",
    "    tf.compat.v1.keras.backend.set_session(sess)\n",
    "    net = Segnet()\n",
    "\n",
    "    opts = tf.compat.v1.profiler.ProfileOptionBuilder.float_operation()    \n",
    "    flops = tf.compat.v1.profiler.profile(sess.graph, run_meta=run_meta, cmd='op', options=opts)\n",
    "\n",
    "    opts = tf.compat.v1.profiler.ProfileOptionBuilder.trainable_variables_parameter()    \n",
    "    params = tf.compat.v1.profiler.profile(sess.graph, run_meta=run_meta, cmd='op', options=opts)\n",
    "\n",
    "    print(\"{:,} --- {:,}\".format(flops.total_float_ops, params.total_parameters))"
   ]
  }
 ],
 "metadata": {
  "kernelspec": {
   "display_name": "Python 3",
   "language": "python",
   "name": "python3"
  },
  "language_info": {
   "codemirror_mode": {
    "name": "ipython",
    "version": 3
   },
   "file_extension": ".py",
   "mimetype": "text/x-python",
   "name": "python",
   "nbconvert_exporter": "python",
   "pygments_lexer": "ipython3",
   "version": "3.7.3"
  }
 },
 "nbformat": 4,
 "nbformat_minor": 2
}
