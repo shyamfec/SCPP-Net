{
 "cells": [
  {
   "cell_type": "code",
   "execution_count": 2,
   "metadata": {},
   "outputs": [],
   "source": [
    "import numpy as np\n",
    "import matplotlib.pyplot as plt\n",
    "import matplotlib.image as mpimg\n",
    "import cv2\n",
    "import os"
   ]
  },
  {
   "cell_type": "code",
   "execution_count": 29,
   "metadata": {},
   "outputs": [
    {
     "name": "stdout",
     "output_type": "stream",
     "text": [
      "['0.png', '1.png', '10.png', '11.png', '12.png', '13.png', '14.png', '2.png', '3.png', '4.png', '5.png', '6.png', '7.png', '8.png', '9.png']\n",
      "0.png\n",
      "1.png\n",
      "10.png\n",
      "11.png\n",
      "12.png\n",
      "13.png\n",
      "14.png\n",
      "2.png\n",
      "3.png\n",
      "4.png\n",
      "5.png\n",
      "6.png\n",
      "7.png\n",
      "8.png\n",
      "9.png\n"
     ]
    }
   ],
   "source": [
    "path1 =\"F:\\\\final_dataset\\\\test1\\\\Data\"\n",
    "path2 =\"F:\\\\result\\\\cumed_norm\\\\Predicted\"\n",
    "print(os.listdir(path1))\n",
    "\n",
    "i=0\n",
    "for img in os.listdir(path2):\n",
    "    print(img[9:])\n",
    "    path3 =\"F:\\\\result\\\\cumed_norm\\\\\"\n",
    "    path3 = path3+'sep_contk'+str(img[9:])\n",
    "    img_array = cv2.imread(os.path.join(path1,img[9:]))\n",
    "    img_array1 = cv2.imread(os.path.join(path2,img),0)\n",
    "    img1, contours, hierarchy = cv2.findContours(img_array1, cv2.RETR_TREE, cv2.CHAIN_APPROX_NONE)\n",
    "    img3=cv2.drawContours(img_array, contours, -1, (0,255,0),3)\n",
    "    #print(img,i)\n",
    "    cv2.imwrite(path3,img3)\n",
    "    #cv2.imshow('image',img3)\n",
    "    #cv2.waitKey(0)\n",
    "    #cv2.destroyAllWindows()\n",
    "    img3=0\n",
    "    path3=0\n",
    "    i=i+1\n",
    "    \n",
    "    \n",
    "    "
   ]
  },
  {
   "cell_type": "code",
   "execution_count": null,
   "metadata": {},
   "outputs": [],
   "source": []
  }
 ],
 "metadata": {
  "kernelspec": {
   "display_name": "Python 3",
   "language": "python",
   "name": "python3"
  },
  "language_info": {
   "codemirror_mode": {
    "name": "ipython",
    "version": 3
   },
   "file_extension": ".py",
   "mimetype": "text/x-python",
   "name": "python",
   "nbconvert_exporter": "python",
   "pygments_lexer": "ipython3",
   "version": "3.7.3"
  }
 },
 "nbformat": 4,
 "nbformat_minor": 2
}
