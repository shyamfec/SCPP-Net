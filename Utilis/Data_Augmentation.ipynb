{
 "cells": [
  {
   "cell_type": "code",
   "execution_count": null,
   "metadata": {},
   "outputs": [],
   "source": [
    "##Data_Augmentation \n",
    "\n",
    "import cv2\n",
    "import numpy as np\n",
    "import matplotlib.pyplot as plt\n",
    "import os \n",
    "\n",
    "import random\n",
    "import sys\n",
    "\n",
    "import tensorflow as tf\n",
    "from tensorflow import keras\n",
    "\n",
    "\n",
    "path  = \"F:\\\\final_dataset\\\\val1\\\\Labels\\\\\"\n",
    "save_path = \"F:\\\\final_dataset_aug\\\\val1\\\\Labels\\\\\"\n",
    "train_ids = np.arange(0,60)\n",
    "id_name = 0"
   ]
  },
  {
   "cell_type": "code",
   "execution_count": null,
   "metadata": {},
   "outputs": [],
   "source": [
    "def dataAugmentation(path,ids,save_path,id_name):\n",
    "    for i in ids:\n",
    "        img_path =path + str(i) + '.png'\n",
    "        img = cv2.imread(img_path,1)\n",
    "        save = save_path +str(id_name)+'.png'\n",
    "        id_name+=1\n",
    "        cv2.imwrite(save,img)\n",
    "        id_name=flipping(img,id_name,save_path)\n",
    "        #id_name=rotate(img,57,id_name,save_path) ### for random rotation \n",
    "        id_name=dihedral(img,id_name,save_path)\n",
    "        #id_name=randomlighting(img,id_name,save_path,1.5) \n",
    "        id_name=randomlighting(img,id_name,save_path,0.5)"
   ]
  },
  {
   "cell_type": "code",
   "execution_count": null,
   "metadata": {},
   "outputs": [],
   "source": [
    "def flipping(img,id_name,save_path):\n",
    "    flip_img = np.fliplr(img)\n",
    "    save = save_path+str(id_name)+'.png'\n",
    "    cv2.imwrite(save,flip_img)\n",
    "    id_name+=1\n",
    "    return id_name"
   ]
  },
  {
   "cell_type": "code",
   "execution_count": null,
   "metadata": {},
   "outputs": [],
   "source": [
    "def rotate(img,angle,id_name,save_path):\n",
    "    (h,w) = img.shape[:2]\n",
    "    center = (h/2,w/2)\n",
    "    M = cv2.getRotationMatrix2D(center,angle,scale = 1.0)\n",
    "    rotated = cv2.warpAffine(img,M,(h,w))\n",
    "    save = save_path + str(id_name) +'.png'\n",
    "    cv2.imwrite(save,rotated)\n",
    "    id_name+=1\n",
    "    return id_name"
   ]
  },
  {
   "cell_type": "code",
   "execution_count": null,
   "metadata": {},
   "outputs": [],
   "source": [
    "def dihedral(img,id_name,save_path):\n",
    "    angle = 90\n",
    "    (h,w) = img.shape[:2]\n",
    "    center = (h/2,w/2)\n",
    "    M = cv2.getRotationMatrix2D(center,angle,scale = 1.0)\n",
    "    rotated = cv2.warpAffine(img,M,(h,w))\n",
    "    save = save_path + str(id_name) +'.png'\n",
    "    cv2.imwrite(save,rotated)\n",
    "    id_name+=1\n",
    "    return id_name"
   ]
  },
  {
   "cell_type": "code",
   "execution_count": null,
   "metadata": {},
   "outputs": [],
   "source": [
    "def randomlighting(img,id_name,save_path,gamma):\n",
    "    #b=0.60\n",
    "    #c=0.55\n",
    "    img1 = img.copy()\n",
    " \n",
    "    inv_gamma = 1/gamma\n",
    "    table = np.array([((i / 255.0) ** inv_gamma) * 255\n",
    "        for i in np.arange(0, 256)]).astype(\"uint8\")\n",
    "    \n",
    "    img1 = cv2.LUT(img,table)        \n",
    "\n",
    "    \n",
    "            \n",
    "    save = save_path +str(id_name)+'.png'\n",
    "    # = cv2.LUT(img,table)\n",
    "    cv2.imwrite(save,img1)\n",
    "    id_name+=1\n",
    "    return id_name\n",
    "    \n",
    "    "
   ]
  },
  {
   "cell_type": "code",
   "execution_count": null,
   "metadata": {},
   "outputs": [],
   "source": []
  }
 ],
 "metadata": {
  "kernelspec": {
   "display_name": "Python 3",
   "language": "python",
   "name": "python3"
  },
  "language_info": {
   "codemirror_mode": {
    "name": "ipython",
    "version": 3
   },
   "file_extension": ".py",
   "mimetype": "text/x-python",
   "name": "python",
   "nbconvert_exporter": "python",
   "pygments_lexer": "ipython3",
   "version": "3.7.3"
  }
 },
 "nbformat": 4,
 "nbformat_minor": 2
}
