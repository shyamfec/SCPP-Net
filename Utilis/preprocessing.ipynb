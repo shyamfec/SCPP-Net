{
 "cells": [
  {
   "cell_type": "code",
   "execution_count": null,
   "metadata": {},
   "outputs": [],
   "source": [
    "## only in case of breast cancer dataset \n",
    "def rein(src):\n",
    "\ttar_path = '/content/gdrive/My Drive/breast_aug/train1/Data/139.png'\n",
    "\ttar = cv2.imread(tar_path , 1)\n",
    "\tm,n,h = tar.shape\n",
    "\ttar_mu = tar.sum(axis=0).sum(axis=0)/(m*n)\n",
    "\ttar_sig = ((tar*tar).sum(axis=0).sum(axis=0)/(m*n-1))**0.5\n",
    "\tsrc_mu = src.sum(axis=0).sum(axis=0)/(m*n)\n",
    "\tsrc_sig = ((src*src).sum(axis=0).sum(axis=0)/(m*n-1))**0.5\n",
    "\n",
    "\timage = src.copy()\n",
    "\tfor i in range(3):\n",
    "\t\timage[:,:,i] = (image[:,:,i]-src_mu[i])/src_sig[i]\n",
    "\t\timage[:,:,i] = image[:,:,i]*tar_sig[i] + tar_mu[i]\n",
    "\t\n",
    "\timage[image>255] = 255\n",
    "\timage[image<0] = 0\n",
    "\timage = np.array(image,dtype = np.uint8)\n",
    "\treturn image"
   ]
  }
 ],
 "metadata": {
  "kernelspec": {
   "display_name": "Python 3",
   "language": "python",
   "name": "python3"
  },
  "language_info": {
   "codemirror_mode": {
    "name": "ipython",
    "version": 3
   },
   "file_extension": ".py",
   "mimetype": "text/x-python",
   "name": "python",
   "nbconvert_exporter": "python",
   "pygments_lexer": "ipython3",
   "version": "3.7.3"
  }
 },
 "nbformat": 4,
 "nbformat_minor": 2
}
